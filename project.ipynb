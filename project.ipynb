{
 "cells": [
  {
   "cell_type": "code",
   "execution_count": 1,
   "metadata": {},
   "outputs": [],
   "source": [
    "import networkx as nx\n",
    "import matplotlib.pyplot as plt\n",
    "import random\n",
    "import numpy as np\n",
    "import sys\n",
    "from  fractions import Fraction\n",
    "import timeit\n",
    "import snap\n",
    "from time import sleep\n",
    "from collections import defaultdict\n",
    "import heapq as heap\n",
    "from tqdm import tqdm\n",
    "from community import community_louvain\n",
    "import matplotlib.cm as cm\n",
    "from IPython.display import HTML, display"
   ]
  },
  {
   "cell_type": "code",
   "execution_count": 2,
   "metadata": {},
   "outputs": [],
   "source": [
    "def set_background(color):    \n",
    "    script = (\n",
    "        \"var cell = this.closest('.jp-CodeCell');\"\n",
    "        \"var editor = cell.querySelector('.jp-Editor');\"\n",
    "        \"editor.style.background='{}';\"\n",
    "        \"this.parentNode.removeChild(this)\"\n",
    "    ).format(color)\n",
    "    \n",
    "    display(HTML('<img src onerror=\"{}\" style=\"display:none\">'.format(script)))"
   ]
  },
  {
   "cell_type": "code",
   "execution_count": 5,
   "metadata": {},
   "outputs": [
    {
     "name": "stderr",
     "output_type": "stream",
     "text": [
      "100%|█████████████████████████████████████████████████████████████████████████████| 1000/1000 [00:01<00:00, 523.05it/s]"
     ]
    },
    {
     "name": "stdout",
     "output_type": "stream",
     "text": [
      "Time:  1.9195679999999982\n",
      "DiGraph with 668 nodes and 983 edges\n"
     ]
    },
    {
     "name": "stderr",
     "output_type": "stream",
     "text": [
      "\n"
     ]
    }
   ],
   "source": [
    "def generate_synthetic_graph(a,b,c,deg_in,deg_out,h,n,p): #Anwar2020 homophily attachment model\n",
    "    G = nx.DiGraph()\n",
    "    nx.set_node_attributes(G, [], \"community\")\n",
    "    nodes=0\n",
    "    for i in tqdm(range(n)):\n",
    "        if random.uniform(0, 1)<=a:\n",
    "            G.add_node(nodes)\n",
    "            G.nodes[nodes]['community']= 'majority' if random.uniform(0, 1)<=p else 'minority'\n",
    "            if nodes>0: # we need at least another node to connect to\n",
    "                weights=[]\n",
    "                for node in range(nodes): #so that we dont create a self loop we dont consider the node we just added\n",
    "                    homophily= h*G.in_degree(node)+deg_in if G.nodes[nodes]['community']==G.nodes[node]['community'] else (1-h)*G.in_degree(node)+deg_in\n",
    "                    weights.append(homophily)\n",
    "\n",
    "                w_s= random.choices(range(nodes), weights=weights, k=1)[0:3]\n",
    "                for w in w_s:\n",
    "                    G.add_edge(nodes, w)\n",
    "            nodes+=1\n",
    "            \n",
    "        if random.uniform(0, 1)<=b and nodes>2:\n",
    "            v= random.choices(range(nodes), weights=[G.out_degree(node)+deg_out for node in G.nodes() ], k=1)[0]\n",
    "            weights=[]\n",
    "            for node in G.nodes():\n",
    "                homophily= h*G.in_degree(node)+deg_in if G.nodes[v]['community']==G.nodes[node]['community'] else (1-h)*G.in_degree(node)+deg_in\n",
    "                weights.append(homophily)\n",
    "            options=list(range(nodes))\n",
    "            options.remove(v)\n",
    "            w_s= random.choices(options, weights=weights.remove(weights[v]), k=1)[0:3]\n",
    "            for w in w_s:\n",
    "                G.add_edge(v, w)\n",
    "            \n",
    "        if random.uniform(0, 1)<=c:\n",
    "            G.add_node(nodes)\n",
    "            G.nodes[nodes]['community']= 'majority' if random.uniform(0, 1)<=p else 'minority'\n",
    "            if nodes>0: # we need at least another node to connect to\n",
    "                weights=[]\n",
    "                for node in range(nodes): #so that we dont create a self loop\n",
    "                    homophily= h*G.out_degree(node)+deg_out if G.nodes[nodes]['community']==G.nodes[node]['community'] else (1-h)*G.out_degree(node)+deg_out\n",
    "                    weights.append(homophily)\n",
    "                w_s= random.choices(range(nodes), weights=weights, k=1)[0:3]\n",
    "                for w in w_s:\n",
    "                    G.add_edge(w, nodes)\n",
    "            nodes+=1\n",
    "            \n",
    "    return G \n",
    "size=1000\n",
    "start = timeit.default_timer()\n",
    "Graph=generate_synthetic_graph(1/3,1/3,1/3,1,1,0.7,size,0.8)\n",
    "stop = timeit.default_timer()\n",
    "print('Time: ', stop - start) \n",
    "if len(Graph.nodes())< 50:\n",
    "    pos = nx.kamada_kawai_layout (Graph)\n",
    "    pos1 = nx.spring_layout (Graph)\n",
    "    plt.figure(1)\n",
    "    nx.draw(Graph,pos,node_color=['green' if Graph.nodes[v]['community']== 'majority' else 'red' for v in Graph.nodes()],with_labels=1)\n",
    "    plt.figure(2)\n",
    "    nx.draw(Graph,pos1,node_color=['green' if Graph.nodes[v]['community']== 'majority' else 'red' for v in Graph.nodes()],with_labels=1)\n",
    "    plt.show()\n",
    "print(nx.info(Graph))"
   ]
  },
  {
   "cell_type": "code",
   "execution_count": 6,
   "metadata": {},
   "outputs": [
    {
     "name": "stdout",
     "output_type": "stream",
     "text": [
      "DiGraph with 5242 nodes and 28980 edges\n"
     ]
    }
   ],
   "source": [
    "def load_GRQc():\n",
    "    g=nx.read_edgelist(\"CA-GrQc.txt\", nodetype=int,create_using=nx.DiGraph())\n",
    "    g=nx.convert_node_labels_to_integers(g)\n",
    "    print(nx.info(g))\n",
    "    return g\n",
    "Graph2=load_GRQc() "
   ]
  },
  {
   "cell_type": "code",
   "execution_count": 7,
   "metadata": {},
   "outputs": [
    {
     "name": "stdout",
     "output_type": "stream",
     "text": [
      "DiGraph with 4039 nodes and 88234 edges\n"
     ]
    }
   ],
   "source": [
    "def load_Facebook():\n",
    "    g=nx.read_edgelist(\"facebook_combined.txt\", nodetype=int,create_using=nx.DiGraph())\n",
    "    g=nx.convert_node_labels_to_integers(g)\n",
    "    print(nx.info(g))\n",
    "    return g\n",
    "Graph3=load_Facebook() "
   ]
  },
  {
   "cell_type": "code",
   "execution_count": 8,
   "metadata": {},
   "outputs": [],
   "source": [
    "def dijkstra_MIA(startingNode, G,in_edges,min_prob):\n",
    "    \n",
    "    MIA = nx.DiGraph()\n",
    "    MIA.add_node(startingNode)\n",
    "\n",
    "    startMIA = timeit.default_timer()\n",
    "    visited = set()\n",
    "    parentsMap = {}\n",
    "    distances={}\n",
    "    probabilities={}\n",
    "    prob={}\n",
    "    pq = []\n",
    "    nodeCosts = defaultdict(lambda: float('inf'))\n",
    "    nodeCosts[startingNode] = 0\n",
    "    prob[startingNode] = Fraction(1,1)\n",
    "    \n",
    "    \n",
    "    heap.heappush(pq, (0, startingNode))\n",
    " \n",
    "    while pq:\n",
    "        # go greedily by always extending the shorter cost nodes first\n",
    "        _, node = heap.heappop(pq)\n",
    "        visited.add(node)\n",
    "        if not in_edges:\n",
    "            neighbors =list(G.successors(node))\n",
    "        else:\n",
    "            neighbors = list(G.predecessors(node))\n",
    "            \n",
    "        for adjNode in neighbors:\n",
    "            if adjNode in visited: continue\n",
    "                \n",
    "            if not in_edges:    \n",
    "                weight= -np.log(1/G.in_degree(adjNode))\n",
    "                prob_val= Fraction(1,G.in_degree(adjNode))*prob[node]\n",
    "            else:\n",
    "                weight= -np.log(1/G.in_degree(node))\n",
    "                prob_val= Fraction(1,G.in_degree(node))*prob[node]\n",
    "                \n",
    "            newCost = nodeCosts[node] + weight\n",
    "            if nodeCosts[adjNode] > newCost and prob_val>= min_prob  :\n",
    "                parentsMap[adjNode] = node\n",
    "                nodeCosts[adjNode] = newCost\n",
    "                prob[adjNode]= prob_val\n",
    "                heap.heappush(pq, (newCost, adjNode))\n",
    "    \n",
    "    for w in  parentsMap.keys(): \n",
    "        if  in_edges:\n",
    "            MIA.add_edge(w,parentsMap[w])\n",
    "        else:\n",
    "            MIA.add_edge(parentsMap[w],w)\n",
    "        distances[w]= nodeCosts[w]\n",
    "        probabilities[w]= prob[w]\n",
    "        \n",
    "    return  MIA,distances,parentsMap,probabilities"
   ]
  },
  {
   "cell_type": "code",
   "execution_count": 9,
   "metadata": {},
   "outputs": [],
   "source": [
    "def compute_PIIS(u,G,d):  \n",
    "    visited=[]\n",
    "    PIIS=[]\n",
    "    queue=[]\n",
    "    visited.append(u)\n",
    "    queue.append((u,0))\n",
    "    while queue:\n",
    "        s = queue.pop(0)\n",
    "        PIIS.append(s[0])\n",
    "        list_neigh=[]\n",
    "        list_neig=G.predecessors(s[0])\n",
    "        for neighbour in list_neig:\n",
    "            if neighbour not in visited and s[1] < d :\n",
    "                visited.append(neighbour)\n",
    "                queue.append((neighbour,s[1]-np.log(1/G.in_degree(neighbour))))\n",
    "    return PIIS"
   ]
  },
  {
   "cell_type": "code",
   "execution_count": 10,
   "metadata": {},
   "outputs": [],
   "source": [
    "def compute_PIOS(u,G,D_max): \n",
    "    visited=[]\n",
    "    PIOS=[]\n",
    "    queue=[]\n",
    "    visited.append(u)\n",
    "    queue.append((u,0))\n",
    "    while queue:\n",
    "        s = queue.pop(0)\n",
    "        PIOS.append(s[0])\n",
    "        list_neigh=[]\n",
    "        list_neig=G.successors(s[0])\n",
    "        for neighbour in list_neig:\n",
    "            if neighbour not in visited and s[1] < D_max[neighbour]:\n",
    "                visited.append(neighbour)\n",
    "                queue.append((neighbour,s[1]+1))\n",
    "    return PIOS"
   ]
  },
  {
   "cell_type": "code",
   "execution_count": 11,
   "metadata": {},
   "outputs": [],
   "source": [
    "def get_p_value(v,pos,t,S_N,S_P):\n",
    "    if v in S_P:\n",
    "        if pos:\n",
    "            if t==0: return 1,1 \n",
    "            else: return 0,1\n",
    "        else: return 0,0\n",
    "            \n",
    "    elif v in S_N:\n",
    "        if pos: return 0,0\n",
    "        \n",
    "        else: \n",
    "            if t==0: return 1,1 \n",
    "            else: 0,1\n",
    "        \n",
    "    else: return 0,0 \n",
    "                  \n",
    "            "
   ]
  },
  {
   "cell_type": "code",
   "execution_count": 12,
   "metadata": {},
   "outputs": [],
   "source": [
    "def compute_ap_N(u,S_N,S_P,MIA,G): #probability of transmission is inversly proportional to the in-degree  \n",
    "    \n",
    "    POS_t=[v for v in S_P if v in MIA]\n",
    "    NEG_t=[v for v in S_N if v in MIA]\n",
    "    POS_next=set()\n",
    "    NEG_next=set()\n",
    "    \n",
    "    P_p_t={}\n",
    "    P_p_next={}\n",
    "    P_n_t={}\n",
    "    P_n_next={}\n",
    "    \n",
    "    ap_n_t={}\n",
    "    ap_p_t={}\n",
    "    \n",
    "    for node in list(MIA.nodes()):\n",
    "         \n",
    "        P_p_t[node],ap_p_t[node] = get_p_value(node,True,0,S_N,S_P)\n",
    "        P_n_t[node],ap_n_t[node] = get_p_value(node,False,0,S_N,S_P)\n",
    "    t=0\n",
    "    \n",
    "    while NEG_t:\n",
    "        \n",
    "        ap_n_next=ap_n_t.copy()\n",
    "        ap_p_next=ap_p_t.copy()\n",
    "        \n",
    "        \n",
    "        temp_P={k:1 for k in MIA.nodes()}\n",
    "        temp_N={k:1 for k in MIA.nodes()}\n",
    "        \n",
    "        for v in POS_t: # positive influence has priority\n",
    "            if not list(MIA.successors(v)):\n",
    "                continue\n",
    "            w= list(MIA.successors(v))[0]\n",
    "            POS_next.add(w)\n",
    "            temp_P[w]*=(1-P_p_t[v]*Fraction(1,G.in_degree(w)))\n",
    "            \n",
    "        for v in POS_next:\n",
    "            P_p_next[v]= (1-temp_P[v])*(1-ap_n_t[v])*(1-ap_p_t[v])\n",
    "            ap_p_next[v]=ap_p_t[v]+P_p_next[v]\n",
    "             \n",
    "        for v in NEG_t :\n",
    "            if not list(MIA.successors(v)):\n",
    "                continue  \n",
    "            w=  list(MIA.successors(v))[0]\n",
    "            NEG_next.add(w)\n",
    "            temp_N[w]*=(1-P_n_t[v]*Fraction(1,G.in_degree(w)))\n",
    "            \n",
    "        for v in NEG_next:\n",
    "            P_n_next[v] = temp_P[v]*(1-temp_N[v])*(1-ap_n_t[v])*(1-ap_p_t[v])\n",
    "            ap_n_next[v]=ap_n_t[v]+P_n_next[v]\n",
    "            \n",
    "        if list(POS_next):\n",
    "            ap_p_t = ap_p_next  \n",
    "            \n",
    "        if list(NEG_next):\n",
    "            ap_n_t = ap_n_next  \n",
    "            \n",
    "        P_p_t,P_n_t,NEG_t,POS_t = P_p_next,P_n_next,NEG_next,POS_next\n",
    "        POS_next=set()\n",
    "        NEG_next=set()\n",
    "        t+=1\n",
    "    return ap_n_t[u]"
   ]
  },
  {
   "cell_type": "code",
   "execution_count": 13,
   "metadata": {},
   "outputs": [
    {
     "data": {
      "text/plain": [
       "Fraction(1, 1)"
      ]
     },
     "execution_count": 13,
     "metadata": {},
     "output_type": "execute_result"
    },
    {
     "data": {
      "image/png": "[encoded data removed]",
      "text/plain": [
       "<Figure size 432x288 with 1 Axes>"
      ]
     },
     "metadata": {},
     "output_type": "display_data"
    }
   ],
   "source": [
    "MIA,_,_,_=dijkstra_MIA(0, Graph,True,0.01)\n",
    "nx.draw(MIA,with_labels=1)\n",
    "compute_ap_N(0,[0, 4, 1, 2, 3],[],MIA,Graph)"
   ]
  },
  {
   "cell_type": "code",
   "execution_count": 14,
   "metadata": {},
   "outputs": [],
   "source": [
    "def find_dc(G,S_P,v):\n",
    "    visited=[]\n",
    "    queue=[] \n",
    "    queue.append((v,0))\n",
    "    visited.append(v)\n",
    "    while queue:\n",
    "        s = queue.pop(0) \n",
    "        if s[0] in S_P:\n",
    "            return s[1]\n",
    "        for neighbour in G.successors(s[0]):\n",
    "            if neighbour not in visited:\n",
    "                if neighbour in S_P:\n",
    "                    return s[1]+1\n",
    "                visited.append(neighbour)\n",
    "                queue.append((neighbour,s[1]+1))\n",
    "    return sys.maxsize"
   ]
  },
  {
   "cell_type": "code",
   "execution_count": 15,
   "metadata": {},
   "outputs": [],
   "source": [
    "def path_blocked(from_node,to_node, MIIA, S):\n",
    "    current_node=from_node\n",
    "    if current_node in S:\n",
    "        return True\n",
    "    while current_node != to_node:\n",
    "        if list(MIIA.successors(current_node))[0] in S:\n",
    "            return True\n",
    "        else:\n",
    "            current_node=list(MIIA.successors(current_node))[0] \n",
    "    return False"
   ]
  },
  {
   "cell_type": "code",
   "execution_count": 16,
   "metadata": {},
   "outputs": [
    {
     "name": "stdout",
     "output_type": "stream",
     "text": [
      "[3, 1, 21, 4, 11]\n",
      "Time:  79.8763734\n",
      "[150, 48, 57, 339, 398]\n"
     ]
    }
   ],
   "source": [
    "def CMIA_O(G,S_N,k,min_prob): # for this algo we assume the prob of possitive diffusion is 1\n",
    "    S_P=[]\n",
    "    Neg_range=set()\n",
    "    DecInf={}\n",
    "    dist={}\n",
    "    D={} # dict to keep track of the distances values per node, and avoid reconstructing MIA\n",
    "    D_max=[0]*len(G.nodes()) # dict to keep track of the dmax values per node\n",
    "    MIA_prev_nodes={}# to keep track of the MIIAs without having to reconstruct\n",
    "    \n",
    "    start = timeit.default_timer()\n",
    "\n",
    "    for u in S_N:\n",
    "        MIOA,_,_,_=dijkstra_MIA(u, G, False, min_prob)\n",
    "        for v in list(set(MIOA.nodes()) - set(S_N)- set(Neg_range)):\n",
    "            Neg_range.add(v) # contains the nodes that could get infected      \n",
    "    for u in Neg_range:\n",
    "        \n",
    "        MIIA,shortest_path,previous_nodes,probabilities=dijkstra_MIA(u, G, True, min_prob)\n",
    "        \n",
    "        MIA_prev_nodes[u]= [(key,val) for key, val in previous_nodes.items()] #skeleton of MIIA\n",
    "        ap=compute_ap_N(u,S_N, S_P, MIIA ,G)\n",
    "        \n",
    "        for v in list(MIIA.nodes()):\n",
    "            if  path_blocked(v,u, MIIA, S_N):\n",
    "                continue\n",
    "            prov_S_P= S_P + [v]\n",
    "            ap_v= compute_ap_N(u,S_N, prov_S_P, MIIA ,G) \n",
    "            #print(ap_v)\n",
    "            if v in DecInf:\n",
    "                DecInf[v]+=(ap-ap_v)\n",
    "            else:\n",
    "                DecInf[v]=(ap-ap_v) #compute total impact of the node as truth campaigner \n",
    "    \n",
    "    stop2 = timeit.default_timer()\n",
    "    #print('Time: ', stop2 - start)       \n",
    "    for i in range(k): \n",
    "        candidates={k:v for k,v in DecInf.items() if k not in S_N+list(S_P)}\n",
    "        u = max(candidates,key=candidates.get) # chose node with higest impact\n",
    "        \n",
    "        MIOA,_,_,_=dijkstra_MIA(u, G, False, min_prob)\n",
    "        for v in list(MIOA.nodes()): # nodes that u could potentially save\n",
    "            if v not in Neg_range:\n",
    "                continue\n",
    "                \n",
    "            MIIA.clear()\n",
    "            nodes={t[0] for t in MIA_prev_nodes[v]}\n",
    "            nodes.add(v)\n",
    "            MIIA.add_nodes_from(list(nodes))\n",
    "            MIIA.add_edges_from(MIA_prev_nodes[v])\n",
    "            \n",
    "            for w in list(MIIA.nodes()): #nodes whose contribution now decreses since u helps\n",
    "                prov_S_P= S_P + [w]\n",
    "                #print(\"porv \" +str(prov_S_P))\n",
    "                ap=compute_ap_N(v,S_N,S_P,MIIA ,G)\n",
    "                #print(ap)\n",
    "                ap_w=compute_ap_N(v,S_N, prov_S_P, MIIA ,G) \n",
    "                #print(ap_w)    \n",
    "                if w in DecInf: \n",
    "                    DecInf[w]-=(ap-ap_w) #remove all influence of w when u was not in S_P  \n",
    "        \n",
    "        S_P.append(u) \n",
    "        for v in list(set(list(MIOA.nodes())) - set([u])):\n",
    "            if v not in Neg_range:\n",
    "                continue\n",
    "            \n",
    "            MIIA.clear()\n",
    "            nodes={t[0] for t in MIA_prev_nodes[v]}\n",
    "            nodes.add(v)\n",
    "            MIIA.add_nodes_from(list(nodes))\n",
    "            MIIA.add_edges_from(MIA_prev_nodes[v])\n",
    "\n",
    "            ap=compute_ap_N(v,S_N,S_P,MIIA,G)\n",
    "            for w in list(MIIA.nodes()):\n",
    "                ap_w=compute_ap_N(v,S_N,prov_S_P,MIIA ,G)\n",
    "                if w in DecInf:\n",
    "                        DecInf[w]+=(ap-ap_w)\n",
    "                    \n",
    "    stop = timeit.default_timer()\n",
    "    print('Time: ', stop - start)          \n",
    "                    \n",
    "    return S_P \n",
    "k_n=5 \n",
    "network=Graph\n",
    "S_N=[t[0] for t in sorted(network.out_degree, key=lambda x: x[1], reverse=True)][0:k_n]\n",
    "print(S_N)\n",
    "print(CMIA_O(network,S_N,5,0.01))    "
   ]
  },
  {
   "cell_type": "code",
   "execution_count": 17,
   "metadata": {},
   "outputs": [],
   "source": [
    "def get_communities(part,G):\n",
    "    communities = []\n",
    "    for i in G.nodes():\n",
    "        if part[i] not in communities:\n",
    "            communities.append(part[i])\n",
    "    return len(communities)"
   ]
  },
  {
   "cell_type": "code",
   "execution_count": 19,
   "metadata": {},
   "outputs": [
    {
     "data": {
      "text/html": [
       "<img src onerror=\"var cell = this.closest('.jp-CodeCell');var editor = cell.querySelector('.jp-Editor');editor.style.background='honeydew';this.parentNode.removeChild(this)\" style=\"display:none\">"
      ],
      "text/plain": [
       "<IPython.core.display.HTML object>"
      ]
     },
     "metadata": {},
     "output_type": "display_data"
    },
    {
     "name": "stdout",
     "output_type": "stream",
     "text": [
      "[3, 1, 21, 4, 11]\n",
      "Time:  45.2255423\n",
      "[150, 47, 66]\n"
     ]
    }
   ],
   "source": [
    "# here we want to max the help of the least helped community\n",
    "# where help is the expected number of saved nodes in the community\n",
    "set_background('honeydew') # to avoid confusion with previous cell\n",
    "def CMIA_O_fair_new(G,S_N,k,min_prob,partition): # for this algo we assume the prob of possitive diffusion is 1\n",
    "    start = timeit.default_timer()\n",
    "    communities=get_communities(partition,G)\n",
    "    DecInf_needed={}\n",
    "    E_inf_num=[0]*communities\n",
    "    E_current=[0]*communities\n",
    "    pop_communities=[0]*communities\n",
    "    saved_per_comm=[0]*communities\n",
    "    for c in range(communities):\n",
    "        pop_communities[c]=[v for k,v in partition.items()].count(c)\n",
    "           \n",
    "    #print(pop_communities)    \n",
    "    S_P=[]\n",
    "    Neg_range=set()\n",
    "    E_inf_comm_v={}\n",
    "    MIA_prev_nodes={}# to keep track of the MIIAs without having to reconstruct\n",
    "    \n",
    "   \n",
    "\n",
    "    for u in S_N:\n",
    "        MIOA,_,_,_=dijkstra_MIA(u, G, False, min_prob)\n",
    "        for v in list(set(MIOA.nodes()) - set(S_N)- set(Neg_range)):\n",
    "            Neg_range.add(v) # contains the nodes that could get infected\n",
    "    #print(Neg_range)        \n",
    "    for u in Neg_range:\n",
    "        MIIA,shortest_path,previous_nodes,probabilities=dijkstra_MIA(u, G, True, min_prob)\n",
    "        MIA_prev_nodes[u]= [(key,val) for key, val in previous_nodes.items()] #skeleton of MIIA\n",
    "        \n",
    "        ap=compute_ap_N(u,S_N, S_P, MIIA ,G)\n",
    "        E_current[partition[u]]+=ap\n",
    "        E_inf_num[partition[u]]+=ap\n",
    "        \n",
    "        for v in list(MIIA.nodes()):\n",
    "            if  path_blocked(v,u, MIIA, S_N):\n",
    "                continue\n",
    "            prov_S_P= S_P + [v]\n",
    "            ap_v= compute_ap_N(u,S_N, prov_S_P, MIIA ,G) \n",
    "            if v in E_inf_comm_v:\n",
    "                E_inf_comm_v[v][partition[u]]+= (ap-ap_v)\n",
    "            else:\n",
    "                E_inf_comm_v[v]=[0]*communities\n",
    "                E_inf_comm_v[v][partition[u]]= (ap-ap_v) #compute total impact of the node as truth campaigner \n",
    "                \n",
    "    for i in range(k): \n",
    "        #print(str(i)+\"/\"+str(k))\n",
    "        start_k = timeit.default_timer()\n",
    "        #print(\"so far we have saved:\"+str([float(saved_per_comm[c]/E_inf_num[c]) if E_inf_num[c]!=0 else 1 for c in range(communities)])) \n",
    "        \n",
    "        if not S_P: # in the first round we choose the node with the biggest contribution\n",
    "            DecInf={v:sum(E_inf_comm_v[v]) for v in E_inf_comm_v} \n",
    "            candidates={k:v for k,v in DecInf.items() if k not in S_N+list(S_P)}\n",
    "        else:\n",
    "            need_saving=[c for c in range(communities) if saved_per_comm[c]==min(saved_per_comm)]\n",
    "            #print(\"we still need to save communities:\"+ str(need_saving))\n",
    "            \n",
    "            DecInf_needed={v:sum([E_inf_comm_v[v][c] for c in need_saving ]) for v in E_inf_comm_v}\n",
    "            #print(DecInf_needed)\n",
    "            \n",
    "            prob_per_com_v={}\n",
    "            resulting_help_v={}\n",
    "            for key in E_inf_comm_v.keys():\n",
    "                prob_per_com_v[key]=[float((saved_per_comm[c]+E_inf_comm_v[key][c])/E_inf_num[c]) if E_inf_num[c]!=0 else 1 for c in range(communities)]\n",
    "                \n",
    "            candidates={k:min(v) for k,v in prob_per_com_v.items() if k not in S_N+list(S_P)}\n",
    "            candidates=dict(sorted(candidates.items(), key=lambda kv: DecInf_needed[kv[0]], reverse=True))\n",
    "            #print(candidates)\n",
    "            \n",
    "         \n",
    "        u = max(candidates,key=candidates.get) # chose node with higest impact\n",
    "        #print(\"u \"+str(u))\n",
    "        stop_k = timeit.default_timer()\n",
    "        #print('Time: ', stop_k - start_k)\n",
    "        start2 = timeit.default_timer()\n",
    "        #print([float(E_inf_comm_v[u][c]/E_inf_num[c]) if E_inf_num[c] else 1 for c in range(communities)])\n",
    "        #print()\n",
    "        saved_per_comm=[E_inf_comm_v[u][c]+saved_per_comm[c] for c in range(communities)]\n",
    "        \n",
    "        MIOA,_,_,_=dijkstra_MIA(u, G, False, min_prob)\n",
    "        for v in list(MIOA.nodes()): # nodes that u could potentially save\n",
    "            if v not in Neg_range:\n",
    "                continue\n",
    "                \n",
    "            MIIA.clear()\n",
    "            nodes={t[0] for t in MIA_prev_nodes[v]}\n",
    "            nodes.add(v)\n",
    "            MIIA.add_nodes_from(list(nodes))\n",
    "            MIIA.add_edges_from(MIA_prev_nodes[v])\n",
    "            \n",
    "            ap=compute_ap_N(v,S_N,S_P,MIIA ,G)\n",
    "            ap_u=compute_ap_N(v,S_N,S_P+[u],MIIA,G)\n",
    "            E_current[partition[v]]-=ap\n",
    "            \n",
    "            for w in list(MIIA.nodes()): #nodes whose contribution now decreses since u helps\n",
    "                if  path_blocked(w,v, MIIA, S_N):continue\n",
    "                if E_inf_comm_v[w][partition[v]]!=0:\n",
    "                    prov_S_P= S_P + [w]\n",
    "                    ap_w=compute_ap_N(v,S_N, prov_S_P, MIIA ,G) \n",
    "                    if w in E_inf_comm_v: \n",
    "                        E_inf_comm_v[w][partition[v]]-=(ap-ap_w) #remove all influence of w when u was not in S_P  \n",
    "                    if w!=u:    \n",
    "                        ap_u_w=compute_ap_N(v,S_N,prov_S_P+[u],MIIA ,G)\n",
    "                        if w in E_inf_comm_v:\n",
    "                                E_inf_comm_v[w][partition[v]]+=(ap_u-ap_u_w)\n",
    "                    \n",
    "                    \n",
    "        S_P.append(u)\n",
    "        stop2 = timeit.default_timer()\n",
    "        #print('Time: ', stop2 - start2)\n",
    "    #print(min([float(saved_per_comm[c]/E_inf_num[c]) if E_inf_num[c]!=0 else 1 for c in range(communities)]))                  \n",
    "    stop = timeit.default_timer()\n",
    "    print('Time: ', stop - start)\n",
    "    #print(\"last we expect\" + str([float(E_current[c]/pop_communities[c])  for c in range(communities)]))    \n",
    "    return S_P \n",
    "\n",
    "k_n=5\n",
    "network=Graph\n",
    "S_N=[t[0] for t in sorted(network.out_degree, key=lambda x: x[1], reverse=True)][0:k_n]\n",
    "print(S_N)\n",
    "partition = community_louvain.best_partition(network.to_undirected(reciprocal=False, as_view=False), random_state=10)\n",
    "print(CMIA_O_fair_new(network,S_N,3,0.01,partition))   "
   ]
  },
  {
   "cell_type": "code",
   "execution_count": 23,
   "metadata": {},
   "outputs": [
    {
     "data": {
      "text/html": [
       "<img src onerror=\"var cell = this.closest('.jp-CodeCell');var editor = cell.querySelector('.jp-Editor');editor.style.background='lightcyan';this.parentNode.removeChild(this)\" style=\"display:none\">"
      ],
      "text/plain": [
       "<IPython.core.display.HTML object>"
      ]
     },
     "metadata": {},
     "output_type": "display_data"
    },
    {
     "name": "stdout",
     "output_type": "stream",
     "text": [
      "[3, 1, 21, 4, 11]\n",
      "Time:  25.350363600000037\n",
      "[150, 66, 220, 338, 343]\n"
     ]
    }
   ],
   "source": [
    "# here we want to max the help of the least helped community\n",
    "# where help is the expected number of saved nodes in the community\n",
    "set_background('lightcyan') # to avoid confusion with previous cell\n",
    "def CMIA_O_fair_per(G,S_N,k,min_prob,partition): # for this algo we assume the prob of possitive diffusion is 1\n",
    "    start = timeit.default_timer()\n",
    "    communities=get_communities(partition,G)\n",
    "    DecInf_needed={}\n",
    "    E_inf_num=[0]*communities\n",
    "    E_current=[0]*communities\n",
    "    pop_communities=[0]*communities\n",
    "    \n",
    "    for c in range(communities):\n",
    "        pop_communities[c]=[v for k,v in partition.items()].count(c)\n",
    "           \n",
    "    #print(pop_communities)    \n",
    "    S_P=[]\n",
    "    Neg_range=set()\n",
    "    E_inf_comm_v={}\n",
    "    MIA_prev_nodes={}# to keep track of the MIIAs without having to reconstruct\n",
    "    \n",
    "   \n",
    "\n",
    "    for u in S_N:\n",
    "        MIOA,_,_,_=dijkstra_MIA(u, G, False, min_prob)\n",
    "        for v in list(set(MIOA.nodes()) - set(S_N)- set(Neg_range)):\n",
    "            Neg_range.add(v) # contains the nodes that could get infected\n",
    "    #print(Neg_range)        \n",
    "    for u in Neg_range:\n",
    "        MIIA,shortest_path,previous_nodes,probabilities=dijkstra_MIA(u, G, True, min_prob)\n",
    "        MIA_prev_nodes[u]= [(key,val) for key, val in previous_nodes.items()] #skeleton of MIIA\n",
    "        \n",
    "        ap=compute_ap_N(u,S_N, S_P, MIIA ,G)\n",
    "        E_current[partition[u]]+=ap\n",
    "        E_inf_num[partition[u]]+=ap\n",
    "        \n",
    "        for v in list(MIIA.nodes()):\n",
    "            if  path_blocked(v,u, MIIA, S_N):\n",
    "                continue\n",
    "            prov_S_P= S_P + [v]\n",
    "            ap_v= compute_ap_N(u,S_N, prov_S_P, MIIA ,G) \n",
    "            if v in E_inf_comm_v:\n",
    "                E_inf_comm_v[v][partition[u]]+= (ap-ap_v)\n",
    "            else:\n",
    "                E_inf_comm_v[v]=[0]*communities\n",
    "                E_inf_comm_v[v][partition[u]]= (ap-ap_v) #compute total impact of the node as truth campaigner \n",
    "                \n",
    "    Inf_per_comm=[E_inf_num[c] for c in range(communities)]          \n",
    "    for i in range(k): \n",
    "        #print(str(i)+\"/\"+str(k))\n",
    "        start_k = timeit.default_timer()\n",
    "        #print(\"so far health is:\"+str([float((pop_communities[c]-Inf_per_comm[c])/pop_communities[c]) for c in range(communities)])) \n",
    "        \n",
    "        if not S_P: # in the first round we choose the node with the biggest contribution\n",
    "            DecInf={v:sum(E_inf_comm_v[v]) for v in E_inf_comm_v} \n",
    "            candidates={k:v for k,v in DecInf.items() if k not in S_N+list(S_P)}\n",
    "        else:\n",
    "            health_per_comm=[(pop_communities[c]-Inf_per_comm[c])/pop_communities[c] for c in range(communities)]\n",
    "            need_saving=[c for c in range(communities) if health_per_comm[c]==min(health_per_comm)]\n",
    "            #print(\"we still need to save communities:\"+ str(need_saving))\n",
    "            \n",
    "            DecInf_needed={v:sum([E_inf_comm_v[v][c] for c in need_saving]) for v in E_inf_comm_v}\n",
    "            #print(DecInf_needed)\n",
    "            \n",
    "            prob_per_com_v={}\n",
    "            resulting_help_v={}\n",
    "            for key in E_inf_comm_v.keys():\n",
    "                prob_per_com_v[key]=[float((pop_communities[c]-E_inf_num[c]+E_inf_comm_v[key][c])/pop_communities[c])for c in range(communities)]\n",
    "                \n",
    "            candidates={k:min(v) for k,v in prob_per_com_v.items() if k not in S_N+list(S_P)}\n",
    "            candidates=dict(sorted(candidates.items(), key=lambda kv: DecInf_needed[kv[0]], reverse=True))\n",
    "            #print(candidates)\n",
    "            \n",
    "         \n",
    "        u = max(candidates,key=candidates.get) # chose node with higest impact\n",
    "        #print(\"u \"+str(u))\n",
    "        stop_k = timeit.default_timer()\n",
    "        #print('Time: ', stop_k - start_k)\n",
    "        start2 = timeit.default_timer()\n",
    "        #print([float(E_inf_comm_v[u][c]/E_inf_num[c]) if E_inf_num[c] else 1 for c in range(communities)])\n",
    "        #print()\n",
    "        Inf_per_comm=[E_inf_num[c]-E_inf_comm_v[u][c] for c in range(communities)]\n",
    "        \n",
    "        MIOA,_,_,_=dijkstra_MIA(u, G, False, min_prob)\n",
    "        for v in list(MIOA.nodes()): # nodes that u could potentially save\n",
    "            if v not in Neg_range:\n",
    "                continue\n",
    "                \n",
    "            MIIA.clear()\n",
    "            nodes={t[0] for t in MIA_prev_nodes[v]}\n",
    "            nodes.add(v)\n",
    "            MIIA.add_nodes_from(list(nodes))\n",
    "            MIIA.add_edges_from(MIA_prev_nodes[v])\n",
    "            \n",
    "            ap=compute_ap_N(v,S_N,S_P,MIIA ,G)\n",
    "            ap_u=compute_ap_N(v,S_N,S_P+[u],MIIA,G)\n",
    "            E_current[partition[v]]-=ap\n",
    "            \n",
    "            for w in list(MIIA.nodes()): #nodes whose contribution now decreses since u helps\n",
    "                if  path_blocked(w,v, MIIA, S_N):continue\n",
    "                if E_inf_comm_v[w][partition[v]]!=0:\n",
    "                    prov_S_P= S_P + [w]\n",
    "                    ap_w=compute_ap_N(v,S_N, prov_S_P, MIIA ,G) \n",
    "                    if w in E_inf_comm_v: \n",
    "                        E_inf_comm_v[w][partition[v]]-=(ap-ap_w) #remove all influence of w when u was not in S_P  \n",
    "                    if w!=u:    \n",
    "                        ap_u_w=compute_ap_N(v,S_N,prov_S_P+[u],MIIA ,G)\n",
    "                        if w in E_inf_comm_v:\n",
    "                                E_inf_comm_v[w][partition[v]]+=(ap_u-ap_u_w)\n",
    "                    \n",
    "                    \n",
    "        S_P.append(u)\n",
    "        stop2 = timeit.default_timer()\n",
    "        #print('Time: ', stop2 - start2)\n",
    "    #print(min([float(saved_per_comm[c]/E_inf_num[c]) if E_inf_num[c]!=0 else 1 for c in range(communities)]))                  \n",
    "    stop = timeit.default_timer()\n",
    "    print('Time: ', stop - start)\n",
    "    #print(\"last we expect\" + str([float(E_current[c]/pop_communities[c])  for c in range(communities)]))    \n",
    "    return S_P \n",
    "\n",
    "k_n=5\n",
    "network=Graph\n",
    "S_N=[t[0] for t in sorted(network.out_degree, key=lambda x: x[1], reverse=True)][0:k_n]\n",
    "print(S_N)\n",
    "partition = community_louvain.best_partition(network.to_undirected(reciprocal=False, as_view=False), random_state=10)\n",
    "print(CMIA_O_fair_per(network,S_N,5,0.01,partition))   "
   ]
  },
  {
   "cell_type": "code",
   "execution_count": 21,
   "metadata": {},
   "outputs": [],
   "source": [
    "#functions used in the MCICM simulation\n",
    "def set_all_Neu(G): # function to seet all nodes to neutral\n",
    "    for i in G.nodes():\n",
    "        G.nodes[i]['action'] = 'Neu'\n",
    "    return G   \n",
    "\n",
    "def set_Neg(G, list1): # function to set nodes in the negative seed to negative and active (Neg_a)\n",
    "    for i in list1:\n",
    "        G.nodes[i]['action'] = 'Neg_a'\n",
    "    return G   \n",
    "\n",
    "def set_Pos(G, list1): # function to set nodes in the positive seed to positive and active (Pos_a)\n",
    "    for i in list1:\n",
    "        G.nodes[i]['action'] = 'Pos_a'\n",
    "    return G \n",
    "\n",
    "def get_colors(G): #functions to translate state to color for visualization\n",
    "    color = []\n",
    "    for i in G.nodes():\n",
    "        if (G.nodes[i]['action'] == 'Neg' or G.nodes[i]['action'] == 'Neg_a'):\n",
    "            color.append('red')\n",
    "        elif (G.nodes[i]['action'] == 'Pos'or G.nodes[i]['action'] == 'Pos_a'):\n",
    "            color.append('green')\n",
    "        else:\n",
    "            color.append('blue')\n",
    "    return color\n",
    "\n",
    "def recalculate(G,negative,positive): # function to update the state of each node after a step\n",
    "    dict1 = {}\n",
    "    \n",
    "    for i in positive: # the positive nodes have preference\n",
    "        neigh = G.neighbors(i)\n",
    "        for j in neigh:\n",
    "            if (G.nodes[j]['action'] == 'Neu' and random.uniform(0, 1)<=(1/G.in_degree(j))): # if node has no opinion yet \n",
    "                G.nodes[j]['action'] = 'Pos_a'\n",
    "                positive.append(j)\n",
    "        G.nodes[i]['action'] = 'Pos' # and the node is no longer active\n",
    "        positive.remove(i)\n",
    "        \n",
    "    for i in negative:\n",
    "        neigh = G.neighbors(i)\n",
    "        for j in neigh:\n",
    "            if (G.nodes[j]['action'] == 'Neu' and random.uniform(0, 1)<=(1/G.in_degree(j))):\n",
    "                G.nodes[j]['action'] = 'Neg_a'\n",
    "                negative.append(j)\n",
    "        G.nodes[i]['action'] = 'Neg' # and the node is no longer active\n",
    "        negative.remove(i)\n",
    "    return G,positive,negative\n",
    "                \n",
    "def Calculate(G,n,S_N,S_P): # function that given a graph G with nodes in different states runs a MCICM for n iterations\n",
    "    pos,neg=S_P.copy(),S_N.copy()\n",
    "    keep_going = True\n",
    "    count = 0\n",
    "    while (keep_going):\n",
    "        count += 1\n",
    "        G,pos,neg=recalculate(G,neg,pos)\n",
    "        if not neg: # if no new nodes are infected  \n",
    "            keep_going = False \n",
    "    return G"
   ]
  },
  {
   "cell_type": "code",
   "execution_count": 25,
   "metadata": {},
   "outputs": [
    {
     "name": "stdout",
     "output_type": "stream",
     "text": [
      "668\n",
      "[3, 1, 21, 4, 11]\n"
     ]
    },
    {
     "name": "stderr",
     "output_type": "stream",
     "text": [
      "100%|████████████████████████████████████████████████████████████████████████████████| 100/100 [00:01<00:00, 63.29it/s]\n"
     ]
    },
    {
     "name": "stdout",
     "output_type": "stream",
     "text": [
      "[27, 4, 16, 5, 8, 5, 8, 11, 6, 3, 2, 5, 3, 2, 8, 13, 2, 12, 4, 11]\n",
      "Time:  105.51698609999994\n",
      "Time:  95.17513819999999\n"
     ]
    },
    {
     "name": "stderr",
     "output_type": "stream",
     "text": [
      "  0%|                                                                                           | 0/10 [00:00<?, ?it/s]"
     ]
    },
    {
     "name": "stdout",
     "output_type": "stream",
     "text": [
      "buget is 1\n"
     ]
    },
    {
     "name": "stderr",
     "output_type": "stream",
     "text": [
      "100%|████████████████████████████████████████████████████████████████████████████████| 100/100 [00:04<00:00, 21.26it/s]\n",
      " 10%|████████▎                                                                          | 1/10 [00:04<00:42,  4.74s/it]"
     ]
    },
    {
     "name": "stdout",
     "output_type": "stream",
     "text": [
      "buget is 4\n"
     ]
    },
    {
     "name": "stderr",
     "output_type": "stream",
     "text": [
      "100%|████████████████████████████████████████████████████████████████████████████████| 100/100 [00:04<00:00, 22.64it/s]\n",
      " 20%|████████████████▌                                                                  | 2/10 [00:09<00:36,  4.57s/it]"
     ]
    },
    {
     "name": "stdout",
     "output_type": "stream",
     "text": [
      "buget is 7\n"
     ]
    },
    {
     "name": "stderr",
     "output_type": "stream",
     "text": [
      "100%|████████████████████████████████████████████████████████████████████████████████| 100/100 [00:04<00:00, 23.09it/s]\n",
      " 30%|████████████████████████▉                                                          | 3/10 [00:13<00:31,  4.48s/it]"
     ]
    },
    {
     "name": "stdout",
     "output_type": "stream",
     "text": [
      "buget is 10\n"
     ]
    },
    {
     "name": "stderr",
     "output_type": "stream",
     "text": [
      "100%|████████████████████████████████████████████████████████████████████████████████| 100/100 [00:04<00:00, 22.79it/s]\n",
      " 40%|█████████████████████████████████▏                                                 | 4/10 [00:17<00:26,  4.45s/it]"
     ]
    },
    {
     "name": "stdout",
     "output_type": "stream",
     "text": [
      "buget is 13\n"
     ]
    },
    {
     "name": "stderr",
     "output_type": "stream",
     "text": [
      "100%|████████████████████████████████████████████████████████████████████████████████| 100/100 [00:03<00:00, 25.24it/s]\n",
      " 50%|█████████████████████████████████████████▌                                         | 5/10 [00:21<00:21,  4.29s/it]"
     ]
    },
    {
     "name": "stdout",
     "output_type": "stream",
     "text": [
      "buget is 17\n"
     ]
    },
    {
     "name": "stderr",
     "output_type": "stream",
     "text": [
      "100%|████████████████████████████████████████████████████████████████████████████████| 100/100 [00:04<00:00, 21.77it/s]\n",
      " 60%|█████████████████████████████████████████████████▊                                 | 6/10 [00:26<00:17,  4.40s/it]"
     ]
    },
    {
     "name": "stdout",
     "output_type": "stream",
     "text": [
      "buget is 20\n"
     ]
    },
    {
     "name": "stderr",
     "output_type": "stream",
     "text": [
      "100%|████████████████████████████████████████████████████████████████████████████████| 100/100 [00:03<00:00, 25.98it/s]\n",
      " 70%|██████████████████████████████████████████████████████████                         | 7/10 [00:30<00:12,  4.23s/it]"
     ]
    },
    {
     "name": "stdout",
     "output_type": "stream",
     "text": [
      "buget is 23\n"
     ]
    },
    {
     "name": "stderr",
     "output_type": "stream",
     "text": [
      "100%|████████████████████████████████████████████████████████████████████████████████| 100/100 [00:04<00:00, 22.82it/s]\n",
      " 80%|██████████████████████████████████████████████████████████████████▍                | 8/10 [00:34<00:08,  4.29s/it]"
     ]
    },
    {
     "name": "stdout",
     "output_type": "stream",
     "text": [
      "buget is 26\n"
     ]
    },
    {
     "name": "stderr",
     "output_type": "stream",
     "text": [
      "100%|████████████████████████████████████████████████████████████████████████████████| 100/100 [00:06<00:00, 15.37it/s]\n",
      " 90%|██████████████████████████████████████████████████████████████████████████▋        | 9/10 [00:41<00:04,  4.99s/it]"
     ]
    },
    {
     "name": "stdout",
     "output_type": "stream",
     "text": [
      "buget is 30\n"
     ]
    },
    {
     "name": "stderr",
     "output_type": "stream",
     "text": [
      "100%|████████████████████████████████████████████████████████████████████████████████| 100/100 [00:05<00:00, 18.22it/s]\n",
      "100%|██████████████████████████████████████████████████████████████████████████████████| 10/10 [00:46<00:00,  4.70s/it]\n",
      "C:\\Users\\usuario\\AppData\\Local\\Temp/ipykernel_19488/4173314987.py:106: UserWarning: color is redundantly defined by the 'color' keyword argument and the fmt string \"--bo\" (-> color='b'). The keyword argument will take precedence.\n",
      "  plt.plot(x_values, CMIA_fair_results_t, '--bo', label='CMIA fair alternative',color='green')\n",
      "C:\\Users\\usuario\\AppData\\Local\\Temp/ipykernel_19488/4173314987.py:107: UserWarning: color is redundantly defined by the 'color' keyword argument and the fmt string \"--bo\" (-> color='b'). The keyword argument will take precedence.\n",
      "  plt.plot(x_values, CMIA_results_t, '--bo', label='CMIA',color='red')\n",
      "C:\\Users\\usuario\\AppData\\Local\\Temp/ipykernel_19488/4173314987.py:111: UserWarning: color is redundantly defined by the 'color' keyword argument and the fmt string \"--bo\" (-> color='b'). The keyword argument will take precedence.\n",
      "  plt.plot(x_values, CMIA_fair_results_f, '--bo', label='CMIA fair alternative',color='green')\n",
      "C:\\Users\\usuario\\AppData\\Local\\Temp/ipykernel_19488/4173314987.py:112: UserWarning: color is redundantly defined by the 'color' keyword argument and the fmt string \"--bo\" (-> color='b'). The keyword argument will take precedence.\n",
      "  plt.plot(x_values, CMIA_results_f, '--bo', label='CMIA',color='red')\n"
     ]
    },
    {
     "data": {
      "image/png": "[encoded data removed]",
      "text/plain": [
       "<Figure size 432x288 with 1 Axes>"
      ]
     },
     "metadata": {
      "needs_background": "light"
     },
     "output_type": "display_data"
    },
    {
     "data": {
      "image/png": "[encoded data removed]",
      "text/plain": [
       "<Figure size 432x288 with 1 Axes>"
      ]
     },
     "metadata": {
      "needs_background": "light"
     },
     "output_type": "display_data"
    },
    {
     "name": "stdout",
     "output_type": "stream",
     "text": [
      "Time:  250.08194500000002\n"
     ]
    }
   ],
   "source": [
    "def MCICM(G,S_N,S_P,base):\n",
    "    start1 = timeit.default_timer()\n",
    "    G1 = G.copy()\n",
    "    G1=set_Pos(set_Neg(set_all_Neu(G1),S_N),S_P)\n",
    "    G1=Calculate(G1,100,S_N,S_P)\n",
    "    stop2 = timeit.default_timer()\n",
    "    #print('Time: ', stop2 - start1)\n",
    "    colors = get_colors(G1)\n",
    "    communities=get_communities(partition,G)\n",
    "    infection_comm=[0]*communities    \n",
    "    \n",
    "        \n",
    "    for i in list(set(G.nodes())-set(S_N)):\n",
    "        if colors[i]=='red':  \n",
    "            infection_comm[partition[i]]+=1 \n",
    "            \n",
    "    total=sum(infection_comm) \n",
    "    stop1 = timeit.default_timer()\n",
    "    #print('Time: ', stop1 - start1)\n",
    "    return total,infection_comm\n",
    "\n",
    "start = timeit.default_timer()\n",
    "network=Graph\n",
    "partition = community_louvain.best_partition(network.to_undirected(reciprocal=False, as_view=False), random_state=10)\n",
    "num_com= get_communities(partition,network)\n",
    "\n",
    "pop_communities=[0]*num_com    \n",
    "for c in range(num_com):\n",
    "    pop_communities[c]=[v for k,v in partition.items()].count(c)\n",
    "print(len(network.nodes()))\n",
    "k_n=5\n",
    "k_p=30\n",
    "S_N=[t[0] for t in sorted(network.out_degree, key=lambda x: x[1], reverse=True)][0:k_n]\n",
    "print(S_N)\n",
    "iterations=100\n",
    "degrees=sorted(network.out_degree, key=lambda x: x[1], reverse=True)\n",
    "candidates_deg= list(set([t[0] for t in degrees])-set(S_N))\n",
    "base=[]\n",
    "base_total=[]\n",
    "for node in tqdm(range(iterations)):\n",
    "    total,infection_comm=MCICM(network,S_N,[],[])\n",
    "    base.append(infection_comm)\n",
    "    base_total.append(total)\n",
    "base=[round(np.mean(base, axis=0)[c]) for c in range(num_com)]\n",
    "print(base)\n",
    "\n",
    "CMIA_results_t,CMIA_fair_results_t,degree_results_t=[np.mean(base_total)],[np.mean(base_total)],[np.mean(base_total)]\n",
    "#print(CMIA_results_t,CMIA_fair_results_t,degree_results_t)\n",
    "value=min([(pop_communities[c]-base[c])/pop_communities[c] for c in range(num_com)])\n",
    "CMIA_results_f,CMIA_fair_results_f,degree_results_f=[value],[value],[value]\n",
    "\n",
    "number_values=10\n",
    "\n",
    "candidates_cmia=CMIA_O(network,S_N,k_p,0.01)\n",
    "candidates_fair=CMIA_O_fair_per(network,S_N,k_p,0.01,partition)\n",
    "\n",
    "for i in tqdm(np.linspace(1, k_p, num=number_values,dtype=int)): \n",
    "    k_p=i.copy()\n",
    "    print(\"buget is \"+str(k_p))\n",
    "    CMIA,CMIA_fair,degree=[],[],[]\n",
    "    CMIA_t,CMIA_fair_t,degree_t=[],[],[]\n",
    "\n",
    "    S_P=candidates_cmia[0:k_p]\n",
    "    S_P_fair=candidates_fair[0:k_p]\n",
    "\n",
    "    S_P_2= candidates_deg[0:k_p]\n",
    "\n",
    "    CMIA_f,CMIA_fair_f,degree_f=[],[],[]\n",
    "    for iter in tqdm(range(iterations), position=0, leave=True):\n",
    "        total,infection_comm =MCICM(network,S_N,S_P_fair,base)\n",
    "        CMIA_fair_f.append(infection_comm)\n",
    "        CMIA_fair_t.append(total)\n",
    "\n",
    "        total,infection_comm=MCICM(network,S_N,S_P,base)\n",
    "        CMIA_f.append(infection_comm)\n",
    "        CMIA_t.append(total)\n",
    "\n",
    "        total,infection_comm=MCICM(network,S_N,S_P_2,base)\n",
    "        degree_f.append(infection_comm)\n",
    "        degree_t.append(total)\n",
    "        \n",
    "        #print(CMIA_fair_t,CMIA_t,degree_t)\n",
    "    #for c in [x for x in range(num_com) if base[x]!=0]:\n",
    "        #print(\"we expected\"+str(base[c]))\n",
    "        #print(round(np.mean(CMIA_fair_f,axis=0)[c]),round(np.mean(CMIA_f,axis=0)[c]),round(np.mean(degree_f,axis=0)[c]))\n",
    "        #print(max((base[c]-round(np.mean(CMIA_fair_f,axis=0)[c]))/base[c],0),max((base[c]-round(np.mean(CMIA_f,axis=0)[c]))/base[c],0),max((base[c]-round(np.mean(degree_f,axis=0)[c]))/base[c],0))\n",
    "        \n",
    "    degree_results_t.append(np.mean(degree_t))\n",
    "    degree_results_f.append(np.min([max((pop_communities[c]-round(np.mean(degree_f,axis=0)[c]))/pop_communities[c],0) for c in range(num_com)]))\n",
    "    \n",
    "    CMIA_results_t.append(np.mean(CMIA_t))\n",
    "    CMIA_results_f.append(np.min([max((pop_communities[c]-round(np.mean(CMIA_f,axis=0)[c]))/pop_communities[c],0) for c in range(num_com)]))\n",
    "    \n",
    "    CMIA_fair_results_t.append(np.mean(CMIA_fair_t))\n",
    "    CMIA_fair_results_f.append(np.min([max((pop_communities[c]-round(np.mean(CMIA_fair_f,axis=0)[c]))/pop_communities[c],0) for c in range(num_com)]))\n",
    "    \n",
    "    #for c in [x for x in range(num_com) if base[x]!=0]:\n",
    "         #print(CMIA_fair_results_f,CMIA_results_f,degree_results_f)\n",
    "    #print(\"average of iterations\")\n",
    "    #print(CMIA_fair_results_f,CMIA_results_f,degree_results_f)\n",
    "    #print(np.mean(CMIA_fair_f,axis=0),np.mean(CMIA_f,axis=0),np.mean(degree_f,axis=0))\n",
    "x_values=[0]\n",
    "x_values.extend(np.linspace(1, k_p, num=number_values,dtype=int))\n",
    "plt.figure(1)\n",
    "plt.plot(x_values,degree_results_t, '--bo', label='degree')\n",
    "plt.plot(x_values, CMIA_fair_results_t, '--bo', label='CMIA fair alternative',color='green')\n",
    "plt.plot(x_values, CMIA_results_t, '--bo', label='CMIA',color='red')\n",
    "plt.legend()\n",
    "plt.figure(2)\n",
    "plt.plot(x_values, degree_results_f, '--bo', label='degree')\n",
    "plt.plot(x_values, CMIA_fair_results_f, '--bo', label='CMIA fair alternative',color='green')\n",
    "plt.plot(x_values, CMIA_results_f, '--bo', label='CMIA',color='red')\n",
    "plt.legend()\n",
    "plt.show()\n",
    "stop = timeit.default_timer()\n",
    "print('Time: ', stop - start)"
   ]
  },
  {
   "cell_type": "code",
   "execution_count": null,
   "metadata": {},
   "outputs": [],
   "source": []
  }
 ],
 "metadata": {
  "kernelspec": {
   "display_name": "Python 3 (ipykernel)",
   "language": "python",
   "name": "python3"
  },
  "language_info": {
   "codemirror_mode": {
    "name": "ipython",
    "version": 3
   },
   "file_extension": ".py",
   "mimetype": "text/x-python",
   "name": "python",
   "nbconvert_exporter": "python",
   "pygments_lexer": "ipython3",
   "version": "3.9.7"
  }
 },
 "nbformat": 4,
 "nbformat_minor": 4
}
